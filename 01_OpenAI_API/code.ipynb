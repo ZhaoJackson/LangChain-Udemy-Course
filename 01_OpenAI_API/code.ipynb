{
 "cells": [
  {
   "cell_type": "markdown",
   "metadata": {},
   "source": [
    "# OpenAI API - Chat completions API\n",
    "Chat models process a sequence of messages to generate a single output message, facilitating both multi-turn conversations and single-turn tasks efficiently."
   ]
  },
  {
   "cell_type": "markdown",
   "metadata": {},
   "source": [
    "## Large Language Models (LLM)\n",
    "- sophisticated ML models skilled in processing, generating, and interacting with human language\n",
    "- Trained on very large datasets\n",
    "- Usecases: Translation, Summarization, Writing code and more"
   ]
  },
  {
   "cell_type": "markdown",
   "metadata": {},
   "source": [
    "## OpenAI and GPT (Generative Pre-trained Transformers)\n",
    "- there are sequence of LLMs from OpenAI (1-4)\n",
    "- OpenAI offers API for users to access their models\n",
    "- API can enable users to use OpenAI ML models and have them to use tokens in the request"
   ]
  },
  {
   "cell_type": "markdown",
   "metadata": {},
   "source": [
    "## Tokens (https://platform.openai.com/docs/models)\n",
    "- Tokens are pieces of words\n",
    "- Before API processes the prompts, the inputs is broken into tokens.\n",
    "- 100 tokens = 75 words\n",
    "- Different models requires different amounts of tokens"
   ]
  },
  {
   "cell_type": "markdown",
   "metadata": {},
   "source": [
    "## Azure Application\n",
    "- create a private API endpoint on MS Azure\n",
    "- The code will work almost the same way as code here."
   ]
  },
  {
   "cell_type": "markdown",
   "metadata": {},
   "source": [
    "## LangChain 0.3X\n",
    "- it transforms from Chain Interface to Runnable Interface\n",
    "- Chain Interface: **chain.run()**\n",
    "- Runnable Interface: **runnable.invoke()**\n",
    "- learn how to migrate from Chain to Runnable Interface\n",
    "- core package: **from langchain.chat_models import ChatOpenAI**"
   ]
  },
  {
   "cell_type": "code",
   "execution_count": 12,
   "metadata": {},
   "outputs": [
    {
     "data": {
      "text/plain": [
       "True"
      ]
     },
     "execution_count": 12,
     "metadata": {},
     "output_type": "execute_result"
    }
   ],
   "source": [
    "# Find the path to the .env file and load it\n",
    "from dotenv import load_dotenv, find_dotenv\n",
    "\n",
    "# Load all of environment variables from the .env file\n",
    "load_dotenv(find_dotenv())"
   ]
  },
  {
   "cell_type": "markdown",
   "metadata": {},
   "source": [
    "## Chat completion API (https://platform.openai.com/docs/guides/responses-vs-chat-completions?api-mode=responses#the-chat-completions-api-is-not-going-away)\n",
    "1. initialize openai.ChatCompletion.create() function to call chat completion api\n",
    "2. indicate the model gpt-3.5-turbo\n",
    "3. pass in the list of dictionary message\n",
    "    - \"role\" key:\n",
    "        - system: The OpenAI's role\n",
    "        - user: query user\n",
    "        - assistant: response from OpenAI\n",
    "    - \"content\" key: corresponding response and query from OpenAI and user\n",
    "4. we set the function where we apply those role and content interaction inside the chat completion that enable to retrieve any desired responses we want to have from GPT 3.5"
   ]
  },
  {
   "cell_type": "code",
   "execution_count": 13,
   "metadata": {},
   "outputs": [],
   "source": [
    "import openai\n",
    "\n",
    "response = openai.chat.completions.create(\n",
    "    model=\"gpt-3.5-turbo\",\n",
    "    messages=[\n",
    "        {\"role\": \"system\", \"content\": \"You are a helpful assistant specialized in providing information about BellaVista Italian Restaurant.\"},\n",
    "        {\"role\": \"user\", \"content\": \"What's on the menu?\"},\n",
    "        {\"role\": \"assistant\", \"content\": \"BellaVista offers a variety of Italian dishes including pasta, pizza, and seafood.\"},\n",
    "        {\"role\": \"user\", \"content\": \"Do you have vegan options?\"}\n",
    "    ]\n",
    ")"
   ]
  },
  {
   "cell_type": "code",
   "execution_count": 14,
   "metadata": {},
   "outputs": [
    {
     "name": "stdout",
     "output_type": "stream",
     "text": [
      "ChatCompletion(id='chatcmpl-BAGyVmuXB7j8KgD8D275iulpD6ych', choices=[Choice(finish_reason='stop', index=0, logprobs=None, message=ChatCompletionMessage(content='Yes, BellaVista Italian Restaurant offers vegan options on their menu. Some popular vegan dishes include vegan pasta with marinara sauce, roasted vegetable pizza with dairy-free cheese, and vegan salads.', refusal=None, role='assistant', audio=None, function_call=None, tool_calls=None, annotations=[]))], created=1741788231, model='gpt-3.5-turbo-0125', object='chat.completion', service_tier='default', system_fingerprint=None, usage=CompletionUsage(completion_tokens=39, prompt_tokens=65, total_tokens=104, completion_tokens_details=CompletionTokensDetails(accepted_prediction_tokens=0, audio_tokens=0, reasoning_tokens=0, rejected_prediction_tokens=0), prompt_tokens_details=PromptTokensDetails(audio_tokens=0, cached_tokens=0)))\n"
     ]
    }
   ],
   "source": [
    "print(response)"
   ]
  },
  {
   "cell_type": "markdown",
   "metadata": {},
   "source": [
    "## Response breakdown from GPT\n",
    "ChatCompletion\n",
    "id='chatcmpl-BAGyVmuXB7j8KgD8D275iulpD6ych', \n",
    "choices=[Choice(finish_reason='stop', index=0, logprobs=None, \n",
    "message=ChatCompletionMessage(content = 'Yes, BellaVista Italian Restaurant offers vegan options on their menu. Some popular vegan dishes include vegan pasta with marinara sauce, roasted vegetable pizza with dairy-free cheese, and vegan salads.', \n",
    "refusal=None, role='assistant', audio=None, function_call=None, tool_calls=None, annotations=[]))]"
   ]
  },
  {
   "cell_type": "code",
   "execution_count": null,
   "metadata": {},
   "outputs": [
    {
     "name": "stdout",
     "output_type": "stream",
     "text": [
      "Yes, BellaVista Italian Restaurant offers vegan options on their menu. Some popular vegan dishes include vegan pasta with marinara sauce, roasted vegetable pizza with dairy-free cheese, and vegan salads.\n"
     ]
    }
   ],
   "source": [
    "# the ChatCompletion object has a list of choices.\n",
    "# by calling choice[0].message.content, we can get the response from the model\n",
    "print(response.choices[0].message.content)"
   ]
  },
  {
   "cell_type": "markdown",
   "metadata": {},
   "source": [
    "Let´s look at the structure of the response"
   ]
  },
  {
   "cell_type": "code",
   "execution_count": 15,
   "metadata": {},
   "outputs": [
    {
     "data": {
      "text/plain": [
       "{'id': 'chatcmpl-BAGyVmuXB7j8KgD8D275iulpD6ych',\n",
       " 'choices': [{'finish_reason': 'stop',\n",
       "   'index': 0,\n",
       "   'logprobs': None,\n",
       "   'message': {'content': 'Yes, BellaVista Italian Restaurant offers vegan options on their menu. Some popular vegan dishes include vegan pasta with marinara sauce, roasted vegetable pizza with dairy-free cheese, and vegan salads.',\n",
       "    'refusal': None,\n",
       "    'role': 'assistant',\n",
       "    'audio': None,\n",
       "    'function_call': None,\n",
       "    'tool_calls': None,\n",
       "    'annotations': []}}],\n",
       " 'created': 1741788231,\n",
       " 'model': 'gpt-3.5-turbo-0125',\n",
       " 'object': 'chat.completion',\n",
       " 'service_tier': 'default',\n",
       " 'system_fingerprint': None,\n",
       " 'usage': {'completion_tokens': 39,\n",
       "  'prompt_tokens': 65,\n",
       "  'total_tokens': 104,\n",
       "  'completion_tokens_details': {'accepted_prediction_tokens': 0,\n",
       "   'audio_tokens': 0,\n",
       "   'reasoning_tokens': 0,\n",
       "   'rejected_prediction_tokens': 0},\n",
       "  'prompt_tokens_details': {'audio_tokens': 0, 'cached_tokens': 0}}}"
      ]
     },
     "execution_count": 15,
     "metadata": {},
     "output_type": "execute_result"
    }
   ],
   "source": [
    "response.model_dump()"
   ]
  }
 ],
 "metadata": {
  "kernelspec": {
   "display_name": "ollama_env",
   "language": "python",
   "name": "python3"
  },
  "language_info": {
   "codemirror_mode": {
    "name": "ipython",
    "version": 3
   },
   "file_extension": ".py",
   "mimetype": "text/x-python",
   "name": "python",
   "nbconvert_exporter": "python",
   "pygments_lexer": "ipython3",
   "version": "3.9.19"
  }
 },
 "nbformat": 4,
 "nbformat_minor": 2
}
